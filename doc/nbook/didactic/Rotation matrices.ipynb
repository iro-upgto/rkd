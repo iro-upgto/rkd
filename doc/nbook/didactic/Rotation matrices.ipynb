{
 "cells": [
  {
   "cell_type": "markdown",
   "metadata": {},
   "source": [
    "## Basic rotation matrices\n",
    "\n",
    "The basic rotation matrices $ R_x, R_y, R_z $ can be obtained using the `rotx`, `roty` and `rotz` functions. "
   ]
  },
  {
   "cell_type": "code",
   "execution_count": 1,
   "metadata": {},
   "outputs": [],
   "source": [
    "from rkd.didactic import *"
   ]
  },
  {
   "cell_type": "code",
   "execution_count": 2,
   "metadata": {},
   "outputs": [
    {
     "data": {
      "image/png": "[encoded data removed]",
      "text/latex": [
       "$$\\left[\\begin{matrix}\\cos{\\left (\\theta \\right )} & - \\sin{\\left (\\theta \\right )} & 0\\\\\\sin{\\left (\\theta \\right )} & \\cos{\\left (\\theta \\right )} & 0\\\\0 & 0 & 1\\end{matrix}\\right]$$"
      ],
      "text/plain": [
       "⎡cos(θ)  -sin(θ)  0⎤\n",
       "⎢                  ⎥\n",
       "⎢sin(θ)  cos(θ)   0⎥\n",
       "⎢                  ⎥\n",
       "⎣  0        0     1⎦"
      ]
     },
     "execution_count": 2,
     "metadata": {},
     "output_type": "execute_result"
    }
   ],
   "source": [
    "rotz(theta)"
   ]
  },
  {
   "cell_type": "code",
   "execution_count": 3,
   "metadata": {},
   "outputs": [
    {
     "data": {
      "image/png": "[encoded data removed]",
      "text/latex": [
       "$$\\left[\\begin{matrix}1 & 0 & 0\\\\0 & \\cos{\\left (\\phi \\right )} & - \\sin{\\left (\\phi \\right )}\\\\0 & \\sin{\\left (\\phi \\right )} & \\cos{\\left (\\phi \\right )}\\end{matrix}\\right]$$"
      ],
      "text/plain": [
       "⎡1    0        0   ⎤\n",
       "⎢                  ⎥\n",
       "⎢0  cos(φ)  -sin(φ)⎥\n",
       "⎢                  ⎥\n",
       "⎣0  sin(φ)  cos(φ) ⎦"
      ]
     },
     "execution_count": 3,
     "metadata": {},
     "output_type": "execute_result"
    }
   ],
   "source": [
    "rotx(phi)"
   ]
  },
  {
   "cell_type": "code",
   "execution_count": 4,
   "metadata": {},
   "outputs": [
    {
     "data": {
      "image/png": "[encoded data removed]",
      "text/latex": [
       "$$\\left[\\begin{matrix}\\cos{\\left (\\gamma \\right )} & 0 & \\sin{\\left (\\gamma \\right )}\\\\0 & 1 & 0\\\\- \\sin{\\left (\\gamma \\right )} & 0 & \\cos{\\left (\\gamma \\right )}\\end{matrix}\\right]$$"
      ],
      "text/plain": [
       "⎡cos(γ)   0  sin(γ)⎤\n",
       "⎢                  ⎥\n",
       "⎢   0     1    0   ⎥\n",
       "⎢                  ⎥\n",
       "⎣-sin(γ)  0  cos(γ)⎦"
      ]
     },
     "execution_count": 4,
     "metadata": {},
     "output_type": "execute_result"
    }
   ],
   "source": [
    "roty(gamma)"
   ]
  },
  {
   "cell_type": "markdown",
   "metadata": {},
   "source": [
    "The `rotx`, `roty` and `rotz` functions accept at most two input arguments, `angle` to rotate and a *flag variable* `deg` which allows to indicate if `angle` is given in degrees. If only `angle` is passed, then the function assumes that is given in radians.\n",
    "\n",
    "For example a rotation of 90° about z-axis:"
   ]
  },
  {
   "cell_type": "code",
   "execution_count": 5,
   "metadata": {},
   "outputs": [
    {
     "data": {
      "image/png": "[encoded data removed]",
      "text/latex": [
       "$$\\left[\\begin{matrix}0 & -1 & 0\\\\1 & 0 & 0\\\\0 & 0 & 1\\end{matrix}\\right]$$"
      ],
      "text/plain": [
       "⎡0  -1  0⎤\n",
       "⎢        ⎥\n",
       "⎢1  0   0⎥\n",
       "⎢        ⎥\n",
       "⎣0  0   1⎦"
      ]
     },
     "execution_count": 5,
     "metadata": {},
     "output_type": "execute_result"
    }
   ],
   "source": [
    "rotz(pi/2) # angle in radians"
   ]
  },
  {
   "cell_type": "markdown",
   "metadata": {},
   "source": [
    "Or equivalently:"
   ]
  },
  {
   "cell_type": "code",
   "execution_count": 6,
   "metadata": {},
   "outputs": [
    {
     "data": {
      "image/png": "[encoded data removed]",
      "text/latex": [
       "$$\\left[\\begin{matrix}0 & -1 & 0\\\\1 & 0 & 0\\\\0 & 0 & 1\\end{matrix}\\right]$$"
      ],
      "text/plain": [
       "⎡0  -1  0⎤\n",
       "⎢        ⎥\n",
       "⎢1  0   0⎥\n",
       "⎢        ⎥\n",
       "⎣0  0   1⎦"
      ]
     },
     "execution_count": 6,
     "metadata": {},
     "output_type": "execute_result"
    }
   ],
   "source": [
    "rotz(90, True) # angle in degrees"
   ]
  },
  {
   "cell_type": "markdown",
   "metadata": {},
   "source": [
    "## Rotation matrices composition\n",
    "\n",
    "**Example 01**. Consider the following sequence of rotations:\n",
    "1. Rotate by $\\phi$  about the world x-axis\n",
    "1. Rotate by $\\theta$ about the current z-axis\n",
    "1. Rotate by $\\psi$ about the world y-axis\n",
    "\n",
    "Find the rotation matrix representing the composite transformation.\n",
    "\n",
    "---\n",
    "\n",
    "Using the corresponding functions and their multiplication in the proper order"
   ]
  },
  {
   "cell_type": "code",
   "execution_count": 11,
   "metadata": {},
   "outputs": [
    {
     "data": {
      "image/png": "[encoded data removed]",
      "text/latex": [
       "$$\\left[\\begin{matrix}\\sin{\\left (\\phi \\right )} \\sin{\\left (\\psi \\right )} \\sin{\\left (\\theta \\right )} + \\cos{\\left (\\psi \\right )} \\cos{\\left (\\theta \\right )} & \\sin{\\left (\\phi \\right )} \\sin{\\left (\\psi \\right )} \\cos{\\left (\\theta \\right )} - \\sin{\\left (\\theta \\right )} \\cos{\\left (\\psi \\right )} & \\sin{\\left (\\psi \\right )} \\cos{\\left (\\phi \\right )}\\\\\\sin{\\left (\\theta \\right )} \\cos{\\left (\\phi \\right )} & \\cos{\\left (\\phi \\right )} \\cos{\\left (\\theta \\right )} & - \\sin{\\left (\\phi \\right )}\\\\\\sin{\\left (\\phi \\right )} \\sin{\\left (\\theta \\right )} \\cos{\\left (\\psi \\right )} - \\sin{\\left (\\psi \\right )} \\cos{\\left (\\theta \\right )} & \\sin{\\left (\\phi \\right )} \\cos{\\left (\\psi \\right )} \\cos{\\left (\\theta \\right )} + \\sin{\\left (\\psi \\right )} \\sin{\\left (\\theta \\right )} & \\cos{\\left (\\phi \\right )} \\cos{\\left (\\psi \\right )}\\end{matrix}\\right]$$"
      ],
      "text/plain": [
       "⎡sin(φ)⋅sin(ψ)⋅sin(θ) + cos(ψ)⋅cos(θ)  sin(φ)⋅sin(ψ)⋅cos(θ) - sin(θ)⋅cos(ψ)  s\n",
       "⎢                                                                             \n",
       "⎢           sin(θ)⋅cos(φ)                         cos(φ)⋅cos(θ)               \n",
       "⎢                                                                             \n",
       "⎣sin(φ)⋅sin(θ)⋅cos(ψ) - sin(ψ)⋅cos(θ)  sin(φ)⋅cos(ψ)⋅cos(θ) + sin(ψ)⋅sin(θ)  c\n",
       "\n",
       "in(ψ)⋅cos(φ)⎤\n",
       "            ⎥\n",
       "  -sin(φ)   ⎥\n",
       "            ⎥\n",
       "os(φ)⋅cos(ψ)⎦"
      ]
     },
     "execution_count": 11,
     "metadata": {},
     "output_type": "execute_result"
    }
   ],
   "source": [
    "roty(psi)*rotx(phi)*rotz(theta)"
   ]
  },
  {
   "cell_type": "markdown",
   "metadata": {},
   "source": [
    "Or in a simpler way using `compose_rotations` function:"
   ]
  },
  {
   "cell_type": "code",
   "execution_count": 12,
   "metadata": {},
   "outputs": [
    {
     "data": {
      "image/png": "[encoded data removed]",
      "text/latex": [
       "$$\\left[\\begin{matrix}\\sin{\\left (\\phi \\right )} \\sin{\\left (\\psi \\right )} \\sin{\\left (\\theta \\right )} + \\cos{\\left (\\psi \\right )} \\cos{\\left (\\theta \\right )} & \\sin{\\left (\\phi \\right )} \\sin{\\left (\\psi \\right )} \\cos{\\left (\\theta \\right )} - \\sin{\\left (\\theta \\right )} \\cos{\\left (\\psi \\right )} & \\sin{\\left (\\psi \\right )} \\cos{\\left (\\phi \\right )}\\\\\\sin{\\left (\\theta \\right )} \\cos{\\left (\\phi \\right )} & \\cos{\\left (\\phi \\right )} \\cos{\\left (\\theta \\right )} & - \\sin{\\left (\\phi \\right )}\\\\\\sin{\\left (\\phi \\right )} \\sin{\\left (\\theta \\right )} \\cos{\\left (\\psi \\right )} - \\sin{\\left (\\psi \\right )} \\cos{\\left (\\theta \\right )} & \\sin{\\left (\\phi \\right )} \\cos{\\left (\\psi \\right )} \\cos{\\left (\\theta \\right )} + \\sin{\\left (\\psi \\right )} \\sin{\\left (\\theta \\right )} & \\cos{\\left (\\phi \\right )} \\cos{\\left (\\psi \\right )}\\end{matrix}\\right]$$"
      ],
      "text/plain": [
       "⎡sin(φ)⋅sin(ψ)⋅sin(θ) + cos(ψ)⋅cos(θ)  sin(φ)⋅sin(ψ)⋅cos(θ) - sin(θ)⋅cos(ψ)  s\n",
       "⎢                                                                             \n",
       "⎢           sin(θ)⋅cos(φ)                         cos(φ)⋅cos(θ)               \n",
       "⎢                                                                             \n",
       "⎣sin(φ)⋅sin(θ)⋅cos(ψ) - sin(ψ)⋅cos(θ)  sin(φ)⋅cos(ψ)⋅cos(θ) + sin(ψ)⋅sin(θ)  c\n",
       "\n",
       "in(ψ)⋅cos(φ)⎤\n",
       "            ⎥\n",
       "  -sin(φ)   ⎥\n",
       "            ⎥\n",
       "os(φ)⋅cos(ψ)⎦"
      ]
     },
     "execution_count": 12,
     "metadata": {},
     "output_type": "execute_result"
    }
   ],
   "source": [
    "compose_rotations((phi,\"x\",\"world\"), (theta,\"z\",\"current\"), (psi,\"y\",\"world\"))"
   ]
  },
  {
   "cell_type": "code",
   "execution_count": null,
   "metadata": {},
   "outputs": [],
   "source": []
  }
 ],
 "metadata": {
  "kernelspec": {
   "display_name": "Python 3",
   "language": "python",
   "name": "python3"
  },
  "language_info": {
   "codemirror_mode": {
    "name": "ipython",
    "version": 3
   },
   "file_extension": ".py",
   "mimetype": "text/x-python",
   "name": "python",
   "nbconvert_exporter": "python",
   "pygments_lexer": "ipython3",
   "version": "3.6.5"
  }
 },
 "nbformat": 4,
 "nbformat_minor": 2
}
