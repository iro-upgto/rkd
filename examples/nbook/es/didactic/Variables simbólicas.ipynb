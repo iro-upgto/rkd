{
 "cells": [
  {
   "cell_type": "markdown",
   "metadata": {},
   "source": [
    "# Variables simbólicas\n",
    "\n",
    "A continuación se listan y muestran variables simbólicas que están predefinidas y se cargan al espacio de trabajo cuando se importa `rkd.didactic`"
   ]
  },
  {
   "cell_type": "code",
   "execution_count": 1,
   "metadata": {},
   "outputs": [],
   "source": [
    "from rkd.didactic import *"
   ]
  },
  {
   "cell_type": "markdown",
   "metadata": {},
   "source": [
    "## Variables articulares (revolutas)"
   ]
  },
  {
   "cell_type": "code",
   "execution_count": 2,
   "metadata": {},
   "outputs": [
    {
     "data": {
      "image/png": "[encoded data removed]",
      "text/latex": [
       "$\\displaystyle \\left( \\theta_1, \\  \\theta_2, \\  \\theta_3, \\  \\theta_4, \\  \\theta_5, \\  \\theta_6\\right)$"
      ],
      "text/plain": [
       "(\\theta₁, \\theta₂, \\theta₃, \\theta₄, \\theta₅, \\theta₆)"
      ]
     },
     "execution_count": 2,
     "metadata": {},
     "output_type": "execute_result"
    }
   ],
   "source": [
    "t1, t2, t3, t4, t5, t6"
   ]
  },
  {
   "cell_type": "markdown",
   "metadata": {},
   "source": [
    "## Variables articulares (prismáticos)"
   ]
  },
  {
   "cell_type": "code",
   "execution_count": 3,
   "metadata": {},
   "outputs": [
    {
     "data": {
      "image/png": "[encoded data removed]",
      "text/latex": [
       "$\\displaystyle \\left( d_{1}, \\  d_{2}, \\  d_{3}, \\  d_{4}, \\  d_{5}, \\  d_{6}\\right)$"
      ],
      "text/plain": [
       "(d₁, d₂, d₃, d₄, d₅, d₆)"
      ]
     },
     "execution_count": 3,
     "metadata": {},
     "output_type": "execute_result"
    }
   ],
   "source": [
    "d1, d2, d3, d4, d5, d6"
   ]
  },
  {
   "cell_type": "markdown",
   "metadata": {},
   "source": [
    "## Letras griegas"
   ]
  },
  {
   "cell_type": "code",
   "execution_count": 4,
   "metadata": {},
   "outputs": [
    {
     "data": {
      "image/png": "[encoded data removed]",
      "text/latex": [
       "$\\displaystyle \\left( \\alpha, \\  \\beta, \\  \\gamma, \\  \\delta, \\  \\epsilon, \\  \\zeta, \\  \\eta, \\  \\theta\\right)$"
      ],
      "text/plain": [
       "(α, β, γ, δ, ε, ζ, η, θ)"
      ]
     },
     "execution_count": 4,
     "metadata": {},
     "output_type": "execute_result"
    }
   ],
   "source": [
    "alpha,beta,gamma,delta,epsilon,zeta,eta,theta "
   ]
  },
  {
   "cell_type": "code",
   "execution_count": 5,
   "metadata": {},
   "outputs": [
    {
     "data": {
      "image/png": "[encoded data removed]",
      "text/latex": [
       "$\\displaystyle \\left( \\iota, \\  \\kappa, \\  \\mu, \\  \\nu, \\  \\xi, \\  o, \\  \\rho, \\  \\sigma\\right)$"
      ],
      "text/plain": [
       "(ι, κ, μ, ν, ξ, ο, ρ, σ)"
      ]
     },
     "execution_count": 5,
     "metadata": {},
     "output_type": "execute_result"
    }
   ],
   "source": [
    "iota,kappa,mu,nu,xi,omicron,rho,sigma"
   ]
  },
  {
   "cell_type": "code",
   "execution_count": 6,
   "metadata": {},
   "outputs": [
    {
     "data": {
      "image/png": "[encoded data removed]",
      "text/latex": [
       "$\\displaystyle \\left( \\tau, \\  \\upsilon, \\  \\phi, \\  \\chi, \\  \\psi, \\  \\omega\\right)$"
      ],
      "text/plain": [
       "(τ, υ, φ, χ, ψ, ω)"
      ]
     },
     "execution_count": 6,
     "metadata": {},
     "output_type": "execute_result"
    }
   ],
   "source": [
    "tau,upsilon,phi,chi,psi,omega"
   ]
  },
  {
   "cell_type": "markdown",
   "metadata": {},
   "source": [
    "## Otros símbolos"
   ]
  },
  {
   "cell_type": "code",
   "execution_count": 7,
   "metadata": {},
   "outputs": [
    {
     "data": {
      "image/png": "[encoded data removed]",
      "text/latex": [
       "$\\displaystyle \\left( l_{1}, \\  l_{2}, \\  l_{3}, \\  l_{4}, \\  l_{5}, \\  l_{6}\\right)$"
      ],
      "text/plain": [
       "(l₁, l₂, l₃, l₄, l₅, l₆)"
      ]
     },
     "execution_count": 7,
     "metadata": {},
     "output_type": "execute_result"
    }
   ],
   "source": [
    "l1, l2, l3, l4, l5, l6"
   ]
  },
  {
   "cell_type": "code",
   "execution_count": 8,
   "metadata": {},
   "outputs": [
    {
     "data": {
      "image/png": "[encoded data removed]",
      "text/latex": [
       "$\\displaystyle \\left( a_{1}, \\  a_{2}, \\  a_{3}, \\  a_{4}, \\  a_{5}, \\  a_{6}\\right)$"
      ],
      "text/plain": [
       "(a₁, a₂, a₃, a₄, a₅, a₆)"
      ]
     },
     "execution_count": 8,
     "metadata": {},
     "output_type": "execute_result"
    }
   ],
   "source": [
    "a1, a2, a3, a4, a5, a6"
   ]
  },
  {
   "cell_type": "code",
   "execution_count": 9,
   "metadata": {},
   "outputs": [
    {
     "data": {
      "image/png": "[encoded data removed]",
      "text/latex": [
       "$\\displaystyle \\left( x_{0}, \\  x_{1}, \\  x_{2}, \\  x_{3}, \\  x_{4}, \\  x_{5}, \\  x_{6}\\right)$"
      ],
      "text/plain": [
       "(x₀, x₁, x₂, x₃, x₄, x₅, x₆)"
      ]
     },
     "execution_count": 9,
     "metadata": {},
     "output_type": "execute_result"
    }
   ],
   "source": [
    "x0, x1, x2, x3, x4, x5, x6"
   ]
  },
  {
   "cell_type": "code",
   "execution_count": 10,
   "metadata": {},
   "outputs": [
    {
     "data": {
      "image/png": "[encoded data removed]",
      "text/latex": [
       "$\\displaystyle \\left( y_{0}, \\  y_{1}, \\  y_{2}, \\  y_{3}, \\  y_{4}, \\  y_{5}, \\  y_{6}\\right)$"
      ],
      "text/plain": [
       "(y₀, y₁, y₂, y₃, y₄, y₅, y₆)"
      ]
     },
     "execution_count": 10,
     "metadata": {},
     "output_type": "execute_result"
    }
   ],
   "source": [
    "y0, y1, y2, y3, y4, y5, y6"
   ]
  },
  {
   "cell_type": "code",
   "execution_count": 11,
   "metadata": {},
   "outputs": [
    {
     "data": {
      "image/png": "[encoded data removed]",
      "text/latex": [
       "$\\displaystyle \\left( z_{0}, \\  z_{1}, \\  z_{2}, \\  z_{3}, \\  z_{4}, \\  z_{5}, \\  z_{6}\\right)$"
      ],
      "text/plain": [
       "(z₀, z₁, z₂, z₃, z₄, z₅, z₆)"
      ]
     },
     "execution_count": 11,
     "metadata": {},
     "output_type": "execute_result"
    }
   ],
   "source": [
    "z0, z1, z2, z3, z4 ,z5, z6"
   ]
  },
  {
   "cell_type": "code",
   "execution_count": null,
   "metadata": {},
   "outputs": [],
   "source": []
  }
 ],
 "metadata": {
  "kernelspec": {
   "display_name": "Python 3",
   "language": "python",
   "name": "python3"
  },
  "language_info": {
   "codemirror_mode": {
    "name": "ipython",
    "version": 3
   },
   "file_extension": ".py",
   "mimetype": "text/x-python",
   "name": "python",
   "nbconvert_exporter": "python",
   "pygments_lexer": "ipython3",
   "version": "3.6.5"
  },
  "toc": {
   "base_numbering": 1,
   "nav_menu": {},
   "number_sections": true,
   "sideBar": true,
   "skip_h1_title": false,
   "title_cell": "Table of Contents",
   "title_sidebar": "Contents",
   "toc_cell": false,
   "toc_position": {},
   "toc_section_display": true,
   "toc_window_display": false
  }
 },
 "nbformat": 4,
 "nbformat_minor": 2
}
