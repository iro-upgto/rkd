{
 "cells": [
  {
   "cell_type": "code",
   "execution_count": 6,
   "metadata": {},
   "outputs": [],
   "source": [
    "from rkd.didactic import *"
   ]
  },
  {
   "cell_type": "markdown",
   "metadata": {},
   "source": [
    "## Traslación"
   ]
  },
  {
   "cell_type": "code",
   "execution_count": 12,
   "metadata": {},
   "outputs": [],
   "source": [
    "a,b,c = symbols(\"a,b,c\")"
   ]
  },
  {
   "cell_type": "code",
   "execution_count": 13,
   "metadata": {},
   "outputs": [
    {
     "data": {
      "image/png": "[encoded data removed]",
      "text/latex": [
       "$$\\left[\\begin{matrix}1 & 0 & 0 & a\\\\0 & 1 & 0 & b\\\\0 & 0 & 1 & c\\\\0 & 0 & 0 & 1\\end{matrix}\\right]$$"
      ],
      "text/plain": [
       "⎡1  0  0  a⎤\n",
       "⎢          ⎥\n",
       "⎢0  1  0  b⎥\n",
       "⎢          ⎥\n",
       "⎢0  0  1  c⎥\n",
       "⎢          ⎥\n",
       "⎣0  0  0  1⎦"
      ]
     },
     "execution_count": 13,
     "metadata": {},
     "output_type": "execute_result"
    }
   ],
   "source": [
    "htmtra([a,b,c])"
   ]
  },
  {
   "cell_type": "code",
   "execution_count": 14,
   "metadata": {},
   "outputs": [
    {
     "data": {
      "image/png": "[encoded data removed]",
      "text/latex": [
       "$$\\left[\\begin{matrix}1 & 0 & 0 & a\\\\0 & 1 & 0 & b\\\\0 & 0 & 1 & c\\\\0 & 0 & 0 & 1\\end{matrix}\\right]$$"
      ],
      "text/plain": [
       "⎡1  0  0  a⎤\n",
       "⎢          ⎥\n",
       "⎢0  1  0  b⎥\n",
       "⎢          ⎥\n",
       "⎢0  0  1  c⎥\n",
       "⎢          ⎥\n",
       "⎣0  0  0  1⎦"
      ]
     },
     "execution_count": 14,
     "metadata": {},
     "output_type": "execute_result"
    }
   ],
   "source": [
    "htmtra([a,0,0])*htmtra([0,b,0])*htmtra([0,0,c])"
   ]
  },
  {
   "cell_type": "markdown",
   "metadata": {},
   "source": [
    "## Rotación"
   ]
  },
  {
   "cell_type": "code",
   "execution_count": 15,
   "metadata": {},
   "outputs": [
    {
     "data": {
      "image/png": "[encoded data removed]",
      "text/latex": [
       "$$\\left[\\begin{matrix}\\cos{\\left (\\theta \\right )} & - \\sin{\\left (\\theta \\right )} & 0 & 0\\\\\\sin{\\left (\\theta \\right )} & \\cos{\\left (\\theta \\right )} & 0 & 0\\\\0 & 0 & 1 & 0\\\\0 & 0 & 0 & 1\\end{matrix}\\right]$$"
      ],
      "text/plain": [
       "⎡cos(θ)  -sin(θ)  0  0⎤\n",
       "⎢                     ⎥\n",
       "⎢sin(θ)  cos(θ)   0  0⎥\n",
       "⎢                     ⎥\n",
       "⎢  0        0     1  0⎥\n",
       "⎢                     ⎥\n",
       "⎣  0        0     0  1⎦"
      ]
     },
     "execution_count": 15,
     "metadata": {},
     "output_type": "execute_result"
    }
   ],
   "source": [
    "htmrot(theta, \"z\")"
   ]
  },
  {
   "cell_type": "code",
   "execution_count": 16,
   "metadata": {},
   "outputs": [
    {
     "data": {
      "image/png": "[encoded data removed]",
      "text/latex": [
       "$$\\left[\\begin{matrix}\\cos{\\left (\\theta \\right )} & 0 & \\sin{\\left (\\theta \\right )} & 0\\\\0 & 1 & 0 & 0\\\\- \\sin{\\left (\\theta \\right )} & 0 & \\cos{\\left (\\theta \\right )} & 0\\\\0 & 0 & 0 & 1\\end{matrix}\\right]$$"
      ],
      "text/plain": [
       "⎡cos(θ)   0  sin(θ)  0⎤\n",
       "⎢                     ⎥\n",
       "⎢   0     1    0     0⎥\n",
       "⎢                     ⎥\n",
       "⎢-sin(θ)  0  cos(θ)  0⎥\n",
       "⎢                     ⎥\n",
       "⎣   0     0    0     1⎦"
      ]
     },
     "execution_count": 16,
     "metadata": {},
     "output_type": "execute_result"
    }
   ],
   "source": [
    "htmrot(theta, \"y\")"
   ]
  },
  {
   "cell_type": "code",
   "execution_count": 21,
   "metadata": {},
   "outputs": [
    {
     "data": {
      "image/png": "[encoded data removed]",
      "text/latex": [
       "$$\\left[\\begin{matrix}1 & 0 & 0 & 0\\\\0 & \\cos{\\left (\\theta \\right )} & - \\sin{\\left (\\theta \\right )} & 0\\\\0 & \\sin{\\left (\\theta \\right )} & \\cos{\\left (\\theta \\right )} & 0\\\\0 & 0 & 0 & 1\\end{matrix}\\right]$$"
      ],
      "text/plain": [
       "⎡1    0        0     0⎤\n",
       "⎢                     ⎥\n",
       "⎢0  cos(θ)  -sin(θ)  0⎥\n",
       "⎢                     ⎥\n",
       "⎢0  sin(θ)  cos(θ)   0⎥\n",
       "⎢                     ⎥\n",
       "⎣0    0        0     1⎦"
      ]
     },
     "execution_count": 21,
     "metadata": {},
     "output_type": "execute_result"
    }
   ],
   "source": [
    "htmrot(theta, \"x\")"
   ]
  },
  {
   "cell_type": "markdown",
   "metadata": {},
   "source": [
    "## Transformaciones compuestas\n",
    "\n",
    "### Rotación seguida por traslación (en el plano *xy*)"
   ]
  },
  {
   "cell_type": "code",
   "execution_count": 18,
   "metadata": {},
   "outputs": [
    {
     "data": {
      "image/png": "[encoded data removed]",
      "text/latex": [
       "$$\\left[\\begin{matrix}\\cos{\\left (\\theta \\right )} & - \\sin{\\left (\\theta \\right )} & 0 & a \\cos{\\left (\\theta \\right )} - b \\sin{\\left (\\theta \\right )}\\\\\\sin{\\left (\\theta \\right )} & \\cos{\\left (\\theta \\right )} & 0 & a \\sin{\\left (\\theta \\right )} + b \\cos{\\left (\\theta \\right )}\\\\0 & 0 & 1 & 0\\\\0 & 0 & 0 & 1\\end{matrix}\\right]$$"
      ],
      "text/plain": [
       "⎡cos(θ)  -sin(θ)  0  a⋅cos(θ) - b⋅sin(θ)⎤\n",
       "⎢                                       ⎥\n",
       "⎢sin(θ)  cos(θ)   0  a⋅sin(θ) + b⋅cos(θ)⎥\n",
       "⎢                                       ⎥\n",
       "⎢  0        0     1           0         ⎥\n",
       "⎢                                       ⎥\n",
       "⎣  0        0     0           1         ⎦"
      ]
     },
     "execution_count": 18,
     "metadata": {},
     "output_type": "execute_result"
    }
   ],
   "source": [
    "htmrot(theta,\"z\")*htmtra([a,b,0])"
   ]
  },
  {
   "cell_type": "markdown",
   "metadata": {},
   "source": [
    "### Traslación seguida por rotación (en el plano *xy*)"
   ]
  },
  {
   "cell_type": "code",
   "execution_count": 19,
   "metadata": {},
   "outputs": [
    {
     "data": {
      "image/png": "[encoded data removed]",
      "text/latex": [
       "$$\\left[\\begin{matrix}\\cos{\\left (\\theta \\right )} & - \\sin{\\left (\\theta \\right )} & 0 & a\\\\\\sin{\\left (\\theta \\right )} & \\cos{\\left (\\theta \\right )} & 0 & b\\\\0 & 0 & 1 & 0\\\\0 & 0 & 0 & 1\\end{matrix}\\right]$$"
      ],
      "text/plain": [
       "⎡cos(θ)  -sin(θ)  0  a⎤\n",
       "⎢                     ⎥\n",
       "⎢sin(θ)  cos(θ)   0  b⎥\n",
       "⎢                     ⎥\n",
       "⎢  0        0     1  0⎥\n",
       "⎢                     ⎥\n",
       "⎣  0        0     0  1⎦"
      ]
     },
     "execution_count": 19,
     "metadata": {},
     "output_type": "execute_result"
    }
   ],
   "source": [
    "htmtra([a,b,0])*htmrot(theta, \"z\")"
   ]
  },
  {
   "cell_type": "code",
   "execution_count": null,
   "metadata": {},
   "outputs": [],
   "source": []
  }
 ],
 "metadata": {
  "kernelspec": {
   "display_name": "Python 3",
   "language": "python",
   "name": "python3"
  },
  "language_info": {
   "codemirror_mode": {
    "name": "ipython",
    "version": 3
   },
   "file_extension": ".py",
   "mimetype": "text/x-python",
   "name": "python",
   "nbconvert_exporter": "python",
   "pygments_lexer": "ipython3",
   "version": "3.6.5"
  },
  "toc": {
   "base_numbering": 1,
   "nav_menu": {},
   "number_sections": true,
   "sideBar": true,
   "skip_h1_title": false,
   "title_cell": "Table of Contents",
   "title_sidebar": "Contents",
   "toc_cell": false,
   "toc_position": {},
   "toc_section_display": true,
   "toc_window_display": false
  }
 },
 "nbformat": 4,
 "nbformat_minor": 2
}
