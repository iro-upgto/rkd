{
 "cells": [
  {
   "cell_type": "markdown",
   "metadata": {},
   "source": [
    "# Transformaciones homogéneas"
   ]
  },
  {
   "cell_type": "code",
   "execution_count": 2,
   "metadata": {},
   "outputs": [],
   "source": [
    "from rkd.didactic import *"
   ]
  },
  {
   "cell_type": "markdown",
   "metadata": {},
   "source": [
    "## Traslación"
   ]
  },
  {
   "cell_type": "code",
   "execution_count": 3,
   "metadata": {},
   "outputs": [],
   "source": [
    "a,b,c = symbols(\"a,b,c\")"
   ]
  },
  {
   "cell_type": "code",
   "execution_count": 4,
   "metadata": {},
   "outputs": [
    {
     "data": {
      "image/png": "[encoded data removed]",
      "text/latex": [
       "$\\displaystyle \\left[\\begin{matrix}1 & 0 & 0 & a\\\\0 & 1 & 0 & b\\\\0 & 0 & 1 & c\\\\0 & 0 & 0 & 1\\end{matrix}\\right]$"
      ],
      "text/plain": [
       "⎡1  0  0  a⎤\n",
       "⎢          ⎥\n",
       "⎢0  1  0  b⎥\n",
       "⎢          ⎥\n",
       "⎢0  0  1  c⎥\n",
       "⎢          ⎥\n",
       "⎣0  0  0  1⎦"
      ]
     },
     "execution_count": 4,
     "metadata": {},
     "output_type": "execute_result"
    }
   ],
   "source": [
    "htmtra([a,b,c])"
   ]
  },
  {
   "cell_type": "code",
   "execution_count": 6,
   "metadata": {},
   "outputs": [
    {
     "data": {
      "image/png": "[encoded data removed]",
      "text/latex": [
       "$\\displaystyle \\left[\\begin{matrix}1 & 0 & 0 & a\\\\0 & 1 & 0 & b\\\\0 & 0 & 1 & c\\\\0 & 0 & 0 & 1\\end{matrix}\\right]$"
      ],
      "text/plain": [
       "⎡1  0  0  a⎤\n",
       "⎢          ⎥\n",
       "⎢0  1  0  b⎥\n",
       "⎢          ⎥\n",
       "⎢0  0  1  c⎥\n",
       "⎢          ⎥\n",
       "⎣0  0  0  1⎦"
      ]
     },
     "execution_count": 6,
     "metadata": {},
     "output_type": "execute_result"
    }
   ],
   "source": [
    "htmtra([a,0,0])*htmtra([0,b,0])*htmtra([0,0,c])"
   ]
  },
  {
   "cell_type": "markdown",
   "metadata": {},
   "source": [
    "## Rotación"
   ]
  },
  {
   "cell_type": "code",
   "execution_count": 7,
   "metadata": {},
   "outputs": [
    {
     "data": {
      "image/png": "[encoded data removed]",
      "text/latex": [
       "$\\displaystyle \\left[\\begin{matrix}\\cos{\\left(\\theta \\right)} & - \\sin{\\left(\\theta \\right)} & 0 & 0\\\\\\sin{\\left(\\theta \\right)} & \\cos{\\left(\\theta \\right)} & 0 & 0\\\\0 & 0 & 1 & 0\\\\0 & 0 & 0 & 1\\end{matrix}\\right]$"
      ],
      "text/plain": [
       "⎡cos(θ)  -sin(θ)  0  0⎤\n",
       "⎢                     ⎥\n",
       "⎢sin(θ)  cos(θ)   0  0⎥\n",
       "⎢                     ⎥\n",
       "⎢  0        0     1  0⎥\n",
       "⎢                     ⎥\n",
       "⎣  0        0     0  1⎦"
      ]
     },
     "execution_count": 7,
     "metadata": {},
     "output_type": "execute_result"
    }
   ],
   "source": [
    "htmrot(theta, \"z\")"
   ]
  },
  {
   "cell_type": "code",
   "execution_count": 8,
   "metadata": {},
   "outputs": [
    {
     "data": {
      "image/png": "[encoded data removed]",
      "text/latex": [
       "$\\displaystyle \\left[\\begin{matrix}\\cos{\\left(\\theta \\right)} & 0 & \\sin{\\left(\\theta \\right)} & 0\\\\0 & 1 & 0 & 0\\\\- \\sin{\\left(\\theta \\right)} & 0 & \\cos{\\left(\\theta \\right)} & 0\\\\0 & 0 & 0 & 1\\end{matrix}\\right]$"
      ],
      "text/plain": [
       "⎡cos(θ)   0  sin(θ)  0⎤\n",
       "⎢                     ⎥\n",
       "⎢   0     1    0     0⎥\n",
       "⎢                     ⎥\n",
       "⎢-sin(θ)  0  cos(θ)  0⎥\n",
       "⎢                     ⎥\n",
       "⎣   0     0    0     1⎦"
      ]
     },
     "execution_count": 8,
     "metadata": {},
     "output_type": "execute_result"
    }
   ],
   "source": [
    "htmrot(theta, \"y\")"
   ]
  },
  {
   "cell_type": "code",
   "execution_count": 9,
   "metadata": {},
   "outputs": [
    {
     "data": {
      "image/png": "[encoded data removed]",
      "text/latex": [
       "$\\displaystyle \\left[\\begin{matrix}1 & 0 & 0 & 0\\\\0 & \\cos{\\left(\\theta \\right)} & - \\sin{\\left(\\theta \\right)} & 0\\\\0 & \\sin{\\left(\\theta \\right)} & \\cos{\\left(\\theta \\right)} & 0\\\\0 & 0 & 0 & 1\\end{matrix}\\right]$"
      ],
      "text/plain": [
       "⎡1    0        0     0⎤\n",
       "⎢                     ⎥\n",
       "⎢0  cos(θ)  -sin(θ)  0⎥\n",
       "⎢                     ⎥\n",
       "⎢0  sin(θ)  cos(θ)   0⎥\n",
       "⎢                     ⎥\n",
       "⎣0    0        0     1⎦"
      ]
     },
     "execution_count": 9,
     "metadata": {},
     "output_type": "execute_result"
    }
   ],
   "source": [
    "htmrot(theta, \"x\")"
   ]
  },
  {
   "cell_type": "markdown",
   "metadata": {},
   "source": [
    "## Transformaciones compuestas\n",
    "\n",
    "### Rotación seguida por traslación (en el plano *xy*)"
   ]
  },
  {
   "cell_type": "code",
   "execution_count": 10,
   "metadata": {},
   "outputs": [
    {
     "data": {
      "image/png": "[encoded data removed]",
      "text/latex": [
       "$\\displaystyle \\left[\\begin{matrix}\\cos{\\left(\\theta \\right)} & - \\sin{\\left(\\theta \\right)} & 0 & a \\cos{\\left(\\theta \\right)} - b \\sin{\\left(\\theta \\right)}\\\\\\sin{\\left(\\theta \\right)} & \\cos{\\left(\\theta \\right)} & 0 & a \\sin{\\left(\\theta \\right)} + b \\cos{\\left(\\theta \\right)}\\\\0 & 0 & 1 & 0\\\\0 & 0 & 0 & 1\\end{matrix}\\right]$"
      ],
      "text/plain": [
       "⎡cos(θ)  -sin(θ)  0  a⋅cos(θ) - b⋅sin(θ)⎤\n",
       "⎢                                       ⎥\n",
       "⎢sin(θ)  cos(θ)   0  a⋅sin(θ) + b⋅cos(θ)⎥\n",
       "⎢                                       ⎥\n",
       "⎢  0        0     1           0         ⎥\n",
       "⎢                                       ⎥\n",
       "⎣  0        0     0           1         ⎦"
      ]
     },
     "execution_count": 10,
     "metadata": {},
     "output_type": "execute_result"
    }
   ],
   "source": [
    "htmrot(theta,\"z\")*htmtra([a,b,0])"
   ]
  },
  {
   "cell_type": "markdown",
   "metadata": {},
   "source": [
    "### Traslación seguida por rotación (en el plano *xy*)"
   ]
  },
  {
   "cell_type": "code",
   "execution_count": 11,
   "metadata": {},
   "outputs": [
    {
     "data": {
      "image/png": "[encoded data removed]",
      "text/latex": [
       "$\\displaystyle \\left[\\begin{matrix}\\cos{\\left(\\theta \\right)} & - \\sin{\\left(\\theta \\right)} & 0 & a\\\\\\sin{\\left(\\theta \\right)} & \\cos{\\left(\\theta \\right)} & 0 & b\\\\0 & 0 & 1 & 0\\\\0 & 0 & 0 & 1\\end{matrix}\\right]$"
      ],
      "text/plain": [
       "⎡cos(θ)  -sin(θ)  0  a⎤\n",
       "⎢                     ⎥\n",
       "⎢sin(θ)  cos(θ)   0  b⎥\n",
       "⎢                     ⎥\n",
       "⎢  0        0     1  0⎥\n",
       "⎢                     ⎥\n",
       "⎣  0        0     0  1⎦"
      ]
     },
     "execution_count": 11,
     "metadata": {},
     "output_type": "execute_result"
    }
   ],
   "source": [
    "htmtra([a,b,0])*htmrot(theta, \"z\")"
   ]
  },
  {
   "cell_type": "markdown",
   "metadata": {},
   "source": [
    "## Ejemplos"
   ]
  },
  {
   "cell_type": "markdown",
   "metadata": {},
   "source": [
    "---\n",
    "### Ejemplo\n",
    ".\n",
    "<font color=\"#00f\">\n",
    "El sistema de referencia \\{B\\} está trasladado 5 unidades en $X$, 4 unidades en $Y$ y -10 unidades en $Z$ con respecto al sistema \\{A\\}. Se sabe que las coordenadas de un punto $P$ descritas en el sistema \\{B\\} son $\\vec{P}^B = [2,3,-5]^T$, calcule $\\vec{P}^A$.\n",
    "</font>\n",
    "\n",
    "\n",
    "*Solución*:\n",
    "\n",
    "Definimos la matriz de transformación $T_B^A$ y el vector $\\vec{P}^B$ en coordenadas homogéneas:"
   ]
  },
  {
   "cell_type": "code",
   "execution_count": 20,
   "metadata": {},
   "outputs": [
    {
     "data": {
      "image/png": "[encoded data removed]",
      "text/latex": [
       "$\\displaystyle \\left( \\left[\\begin{matrix}1 & 0 & 0 & 5\\\\0 & 1 & 0 & 4\\\\0 & 0 & 1 & -10\\\\0 & 0 & 0 & 1\\end{matrix}\\right], \\  \\left[\\begin{matrix}2\\\\3\\\\-5\\\\1\\end{matrix}\\right]\\right)$"
      ],
      "text/plain": [
       "⎛⎡1  0  0   5 ⎤  ⎡2 ⎤⎞\n",
       "⎜⎢            ⎥  ⎢  ⎥⎟\n",
       "⎜⎢0  1  0   4 ⎥  ⎢3 ⎥⎟\n",
       "⎜⎢            ⎥, ⎢  ⎥⎟\n",
       "⎜⎢0  0  1  -10⎥  ⎢-5⎥⎟\n",
       "⎜⎢            ⎥  ⎢  ⎥⎟\n",
       "⎝⎣0  0  0   1 ⎦  ⎣1 ⎦⎠"
      ]
     },
     "execution_count": 20,
     "metadata": {},
     "output_type": "execute_result"
    }
   ],
   "source": [
    "TBA = htmtra([5,0,0])*htmtra([0,4,0])*htmtra([0,0,-10])\n",
    "PB = Matrix([2,3,-5,1])\n",
    "TBA, PB # Mostramos"
   ]
  },
  {
   "cell_type": "markdown",
   "metadata": {},
   "source": [
    "Recordar que la descripción del punto $P$ en \\{A\\} estará dada por:\n",
    "\n",
    "$$\\vec{P}^A = T_B^A \\, \\vec{P}^B $$\n",
    "\n",
    "Entonces:"
   ]
  },
  {
   "cell_type": "code",
   "execution_count": 23,
   "metadata": {},
   "outputs": [
    {
     "data": {
      "image/png": "[encoded data removed]",
      "text/latex": [
       "$\\displaystyle \\left[\\begin{matrix}7\\\\7\\\\-15\\\\1\\end{matrix}\\right]$"
      ],
      "text/plain": [
       "⎡ 7 ⎤\n",
       "⎢   ⎥\n",
       "⎢ 7 ⎥\n",
       "⎢   ⎥\n",
       "⎢-15⎥\n",
       "⎢   ⎥\n",
       "⎣ 1 ⎦"
      ]
     },
     "execution_count": 23,
     "metadata": {},
     "output_type": "execute_result"
    }
   ],
   "source": [
    "PA = TBA*PB\n",
    "PA"
   ]
  },
  {
   "cell_type": "markdown",
   "metadata": {},
   "source": [
    "---\n",
    "### Ejemplo\n",
    ".\n",
    "<font color=\"#00f\">En la figura se muestra un cuerpo rígido en forma cúbica, con algunos sistemas de referencia adheridos tal como se esquematiza. Calcule las matrices de transformación homogénea $ T_1^0 $, $ T_2^1 $, $ T_2^0 $ y $ T_0^2 $. Considere que las aristas del cubo miden 100 mm.\n",
    "</font>\n",
    "\n",
    "<img src=\"img/cube_ht.svg\" width=\"320px\">\n",
    "\n",
    "*Solución*"
   ]
  },
  {
   "cell_type": "code",
   "execution_count": 24,
   "metadata": {},
   "outputs": [
    {
     "data": {
      "image/png": "[encoded data removed]",
      "text/latex": [
       "$\\displaystyle \\left[\\begin{matrix}0 & 0 & -1 & 100\\\\1 & 0 & 0 & 0\\\\0 & -1 & 0 & 100\\\\0 & 0 & 0 & 1\\end{matrix}\\right]$"
      ],
      "text/plain": [
       "⎡0  0   -1  100⎤\n",
       "⎢              ⎥\n",
       "⎢1  0   0    0 ⎥\n",
       "⎢              ⎥\n",
       "⎢0  -1  0   100⎥\n",
       "⎢              ⎥\n",
       "⎣0  0   0    1 ⎦"
      ]
     },
     "execution_count": 24,
     "metadata": {},
     "output_type": "execute_result"
    }
   ],
   "source": [
    "T10 = htmtra([100,0,100])*htmrot(pi/2, \"z\")*htmrot(-pi/2, \"x\")\n",
    "T10"
   ]
  },
  {
   "cell_type": "code",
   "execution_count": 26,
   "metadata": {},
   "outputs": [
    {
     "data": {
      "image/png": "[encoded data removed]",
      "text/latex": [
       "$\\displaystyle \\left[\\begin{matrix}0 & 0 & -1 & 100\\\\1 & 0 & 0 & 0\\\\0 & -1 & 0 & 100\\\\0 & 0 & 0 & 1\\end{matrix}\\right]$"
      ],
      "text/plain": [
       "⎡0  0   -1  100⎤\n",
       "⎢              ⎥\n",
       "⎢1  0   0    0 ⎥\n",
       "⎢              ⎥\n",
       "⎢0  -1  0   100⎥\n",
       "⎢              ⎥\n",
       "⎣0  0   0    1 ⎦"
      ]
     },
     "execution_count": 26,
     "metadata": {},
     "output_type": "execute_result"
    }
   ],
   "source": [
    "T21 = htmtra([100,0,100])*htmrot(-pi/2, \"y\")*htmrot(pi/2, \"z\")\n",
    "T21"
   ]
  },
  {
   "cell_type": "code",
   "execution_count": 27,
   "metadata": {},
   "outputs": [
    {
     "data": {
      "image/png": "[encoded data removed]",
      "text/latex": [
       "$\\displaystyle \\left[\\begin{matrix}0 & 1 & 0 & 0\\\\0 & 0 & -1 & 100\\\\-1 & 0 & 0 & 100\\\\0 & 0 & 0 & 1\\end{matrix}\\right]$"
      ],
      "text/plain": [
       "⎡0   1  0    0 ⎤\n",
       "⎢              ⎥\n",
       "⎢0   0  -1  100⎥\n",
       "⎢              ⎥\n",
       "⎢-1  0  0   100⎥\n",
       "⎢              ⎥\n",
       "⎣0   0  0    1 ⎦"
      ]
     },
     "execution_count": 27,
     "metadata": {},
     "output_type": "execute_result"
    }
   ],
   "source": [
    "T20 = T10*T21\n",
    "T20"
   ]
  },
  {
   "cell_type": "code",
   "execution_count": 29,
   "metadata": {},
   "outputs": [
    {
     "data": {
      "image/png": "[encoded data removed]",
      "text/latex": [
       "$\\displaystyle \\left[\\begin{matrix}0 & 0 & -1 & 100\\\\1 & 0 & 0 & 0\\\\0 & -1 & 0 & 100\\\\0 & 0 & 0 & 1\\end{matrix}\\right]$"
      ],
      "text/plain": [
       "⎡0  0   -1  100⎤\n",
       "⎢              ⎥\n",
       "⎢1  0   0    0 ⎥\n",
       "⎢              ⎥\n",
       "⎢0  -1  0   100⎥\n",
       "⎢              ⎥\n",
       "⎣0  0   0    1 ⎦"
      ]
     },
     "execution_count": 29,
     "metadata": {},
     "output_type": "execute_result"
    }
   ],
   "source": [
    "T02 = T20.inv()\n",
    "T02"
   ]
  }
 ],
 "metadata": {
  "kernelspec": {
   "display_name": "Python 3",
   "language": "python",
   "name": "python3"
  },
  "language_info": {
   "codemirror_mode": {
    "name": "ipython",
    "version": 3
   },
   "file_extension": ".py",
   "mimetype": "text/x-python",
   "name": "python",
   "nbconvert_exporter": "python",
   "pygments_lexer": "ipython3",
   "version": "3.6.5"
  },
  "toc": {
   "base_numbering": 1,
   "nav_menu": {},
   "number_sections": true,
   "sideBar": true,
   "skip_h1_title": false,
   "title_cell": "Table of Contents",
   "title_sidebar": "Contents",
   "toc_cell": false,
   "toc_position": {},
   "toc_section_display": true,
   "toc_window_display": false
  }
 },
 "nbformat": 4,
 "nbformat_minor": 2
}
