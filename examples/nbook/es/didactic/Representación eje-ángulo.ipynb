{
 "cells": [
  {
   "cell_type": "code",
   "execution_count": 2,
   "metadata": {},
   "outputs": [],
   "source": [
    "from rkd.didactic import *"
   ]
  },
  {
   "cell_type": "code",
   "execution_count": 3,
   "metadata": {},
   "outputs": [
    {
     "data": {
      "image/png": "[encoded data removed]",
      "text/latex": [
       "$\\displaystyle \\left[\\begin{matrix}\\frac{1}{2} & \\frac{1}{2} & \\frac{\\sqrt{2}}{2}\\\\\\frac{1}{2} & \\frac{1}{2} & - \\frac{\\sqrt{2}}{2}\\\\- \\frac{\\sqrt{2}}{2} & \\frac{\\sqrt{2}}{2} & 0\\end{matrix}\\right]$"
      ],
      "text/plain": [
       "⎡            √2 ⎤\n",
       "⎢1/2   1/2   ── ⎥\n",
       "⎢            2  ⎥\n",
       "⎢               ⎥\n",
       "⎢           -√2 ⎥\n",
       "⎢1/2   1/2  ────⎥\n",
       "⎢            2  ⎥\n",
       "⎢               ⎥\n",
       "⎢-√2   √2       ⎥\n",
       "⎢────  ──    0  ⎥\n",
       "⎣ 2    2        ⎦"
      ]
     },
     "execution_count": 3,
     "metadata": {},
     "output_type": "execute_result"
    }
   ],
   "source": [
    "axa2rot([1,1,0], pi/2)"
   ]
  },
  {
   "cell_type": "code",
   "execution_count": 3,
   "metadata": {},
   "outputs": [
    {
     "data": {
      "image/png": "[encoded data removed]",
      "text/latex": [
       "$$\\left ( \\left[\\begin{matrix}1.0\\\\0\\\\0\\end{matrix}\\right], \\quad \\frac{\\pi}{2}\\right )$$"
      ],
      "text/plain": [
       "⎛⎡1.0⎤   ⎞\n",
       "⎜⎢   ⎥  π⎟\n",
       "⎜⎢ 0 ⎥, ─⎟\n",
       "⎜⎢   ⎥  2⎟\n",
       "⎝⎣ 0 ⎦   ⎠"
      ]
     },
     "execution_count": 3,
     "metadata": {},
     "output_type": "execute_result"
    }
   ],
   "source": [
    "rot2axa(rotx(pi/2))"
   ]
  },
  {
   "cell_type": "code",
   "execution_count": 4,
   "metadata": {},
   "outputs": [
    {
     "data": {
      "image/png": "[encoded data removed]",
      "text/latex": [
       "$$\\left ( \\left[\\begin{matrix}0\\\\1.0\\\\0\\end{matrix}\\right], \\quad \\frac{\\pi}{2}\\right )$$"
      ],
      "text/plain": [
       "⎛⎡ 0 ⎤   ⎞\n",
       "⎜⎢   ⎥  π⎟\n",
       "⎜⎢1.0⎥, ─⎟\n",
       "⎜⎢   ⎥  2⎟\n",
       "⎝⎣ 0 ⎦   ⎠"
      ]
     },
     "execution_count": 4,
     "metadata": {},
     "output_type": "execute_result"
    }
   ],
   "source": [
    "rot2axa(roty(pi/2))"
   ]
  },
  {
   "cell_type": "code",
   "execution_count": 5,
   "metadata": {},
   "outputs": [
    {
     "data": {
      "image/png": "[encoded data removed]",
      "text/latex": [
       "$$\\left ( \\left[\\begin{matrix}0\\\\0\\\\1.0\\end{matrix}\\right], \\quad \\frac{\\pi}{2}\\right )$$"
      ],
      "text/plain": [
       "⎛⎡ 0 ⎤   ⎞\n",
       "⎜⎢   ⎥  π⎟\n",
       "⎜⎢ 0 ⎥, ─⎟\n",
       "⎜⎢   ⎥  2⎟\n",
       "⎝⎣1.0⎦   ⎠"
      ]
     },
     "execution_count": 5,
     "metadata": {},
     "output_type": "execute_result"
    }
   ],
   "source": [
    "rot2axa(rotz(pi/2))"
   ]
  },
  {
   "cell_type": "code",
   "execution_count": 10,
   "metadata": {},
   "outputs": [
    {
     "data": {
      "image/png": "[encoded data removed]",
      "text/latex": [
       "$$\\left ( \\left[\\begin{matrix}0.776700243202807\\\\-0.102254526894387\\\\0.621514878291989\\end{matrix}\\right], \\quad 129.006571604678\\right )$$"
      ],
      "text/plain": [
       "⎛⎡0.776700243202807 ⎤                  ⎞\n",
       "⎜⎢                  ⎥                  ⎟\n",
       "⎜⎢-0.102254526894387⎥, 129.006571604678⎟\n",
       "⎜⎢                  ⎥                  ⎟\n",
       "⎝⎣0.621514878291989 ⎦                  ⎠"
      ]
     },
     "execution_count": 10,
     "metadata": {},
     "output_type": "execute_result"
    }
   ],
   "source": [
    "k,t = rot2axa(rotz(pi/4)*rotx(pi/2)*rotz(pi/3), True)\n",
    "k,t"
   ]
  },
  {
   "cell_type": "code",
   "execution_count": 12,
   "metadata": {},
   "outputs": [
    {
     "data": {
      "image/png": "[encoded data removed]",
      "text/latex": [
       "$$\\left[\\begin{matrix}0.353553390593274 & -0.612372435695795 & 0.707106781186548\\\\0.353553390593274 & -0.612372435695794 & -0.707106781186548\\\\0.866025403784439 & 0.5 & 3.33066907387547 \\cdot 10^{-16}\\end{matrix}\\right]$$"
      ],
      "text/plain": [
       "⎡0.353553390593274  -0.612372435695795   0.707106781186548  ⎤\n",
       "⎢                                                           ⎥\n",
       "⎢0.353553390593274  -0.612372435695794   -0.707106781186548 ⎥\n",
       "⎢                                                           ⎥\n",
       "⎣0.866025403784439         0.5          3.33066907387547e-16⎦"
      ]
     },
     "execution_count": 12,
     "metadata": {},
     "output_type": "execute_result"
    }
   ],
   "source": [
    "axa2rot(k,deg2rad(t).evalf())"
   ]
  },
  {
   "cell_type": "code",
   "execution_count": 13,
   "metadata": {},
   "outputs": [
    {
     "data": {
      "image/png": "[encoded data removed]",
      "text/latex": [
       "$$\\left[\\begin{matrix}0.353553390593274 & -0.612372435695794 & 0.707106781186548\\\\0.353553390593274 & -0.612372435695794 & -0.707106781186548\\\\0.866025403784439 & 0.5 & 0\\end{matrix}\\right]$$"
      ],
      "text/plain": [
       "⎡0.353553390593274  -0.612372435695794  0.707106781186548 ⎤\n",
       "⎢                                                         ⎥\n",
       "⎢0.353553390593274  -0.612372435695794  -0.707106781186548⎥\n",
       "⎢                                                         ⎥\n",
       "⎣0.866025403784439         0.5                  0         ⎦"
      ]
     },
     "execution_count": 13,
     "metadata": {},
     "output_type": "execute_result"
    }
   ],
   "source": [
    "( rotz(pi/4)*rotx(pi/2)*rotz(pi/3) ).evalf()"
   ]
  },
  {
   "cell_type": "code",
   "execution_count": null,
   "metadata": {},
   "outputs": [],
   "source": []
  }
 ],
 "metadata": {
  "kernelspec": {
   "display_name": "Python 3",
   "language": "python",
   "name": "python3"
  },
  "language_info": {
   "codemirror_mode": {
    "name": "ipython",
    "version": 3
   },
   "file_extension": ".py",
   "mimetype": "text/x-python",
   "name": "python",
   "nbconvert_exporter": "python",
   "pygments_lexer": "ipython3",
   "version": "3.6.5"
  },
  "toc": {
   "base_numbering": 1,
   "nav_menu": {},
   "number_sections": true,
   "sideBar": true,
   "skip_h1_title": false,
   "title_cell": "Table of Contents",
   "title_sidebar": "Contents",
   "toc_cell": false,
   "toc_position": {},
   "toc_section_display": true,
   "toc_window_display": false
  }
 },
 "nbformat": 4,
 "nbformat_minor": 2
}
